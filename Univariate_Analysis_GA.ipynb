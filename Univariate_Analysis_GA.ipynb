{
  "cells": [
    {
      "cell_type": "markdown",
      "metadata": {
        "id": "view-in-github",
        "colab_type": "text"
      },
      "source": [
        "<a href=\"https://colab.research.google.com/github/RavaUnda/pythonLearning/blob/main/Univariate_Analysis_GA.ipynb\" target=\"_parent\"><img src=\"https://colab.research.google.com/assets/colab-badge.svg\" alt=\"Open In Colab\"/></a>"
      ]
    },
    {
      "cell_type": "code",
      "source": [
        "from google.colab import drive\n",
        "drive.mount('/content/drive')"
      ],
      "metadata": {
        "colab": {
          "base_uri": "https://localhost:8080/"
        },
        "id": "gg3EVBFDhu_N",
        "outputId": "b29803fa-d36c-4f1e-9576-49749ebe6fba"
      },
      "id": "gg3EVBFDhu_N",
      "execution_count": null,
      "outputs": [
        {
          "output_type": "stream",
          "name": "stdout",
          "text": [
            "Mounted at /content/drive\n"
          ]
        }
      ]
    },
    {
      "cell_type": "code",
      "execution_count": null,
      "id": "6887d033",
      "metadata": {
        "id": "6887d033"
      },
      "outputs": [],
      "source": [
        "import numpy as np\n",
        "import pandas as pd\n",
        "import matplotlib.pyplot as plt\n",
        "import seaborn as sns"
      ]
    },
    {
      "cell_type": "code",
      "execution_count": null,
      "id": "9472b777",
      "metadata": {
        "id": "9472b777"
      },
      "outputs": [],
      "source": [
        "plt.style.use('default')"
      ]
    },
    {
      "cell_type": "code",
      "execution_count": null,
      "id": "496aff26",
      "metadata": {
        "colab": {
          "base_uri": "https://localhost:8080/",
          "height": 2313
        },
        "id": "496aff26",
        "outputId": "533aab36-4eee-4ee5-ae9a-f76eeb475f5d"
      },
      "outputs": [
        {
          "output_type": "execute_result",
          "data": {
            "text/plain": [
              "     Unnamed: 0 Runs Mins   BF  4s 6s      SR Pos Dismissal Inns  \\\n",
              "0             1    0    -    2   0  0       0   5    caught    2   \n",
              "1             2    0    2    2   0  0       0   5    caught    2   \n",
              "2             3   36   51   39   5  0    92.3   6    caught    1   \n",
              "3             4   19   38   35   1  1   54.28   4    bowled    2   \n",
              "4             5   31   31   26   3  0  119.23   6    bowled    2   \n",
              "..          ...  ...  ...  ...  .. ..     ...  ..       ...  ...   \n",
              "290         291   18   21   14   2  0  128.57   2    caught    2   \n",
              "291         292    2    9    6   0  0   33.33   2    caught    2   \n",
              "292         293    3   21   12   0  0      25   2    caught    2   \n",
              "293         294   14   34   15   2  0   93.33   2   run out    2   \n",
              "294         295  114  205  147  12  1   77.55   2    caught    1   \n",
              "\n",
              "        Opposition      Ground Start Date  \n",
              "0       v Pakistan  Gujranwala  18-Dec-89  \n",
              "1    v New Zealand     Dunedin   1-Mar-90  \n",
              "2    v New Zealand  Wellington   6-Mar-90  \n",
              "3        v England       Leeds  18-Jul-90  \n",
              "4        v England  Nottingham  20-Jul-90  \n",
              "..             ...         ...        ...  \n",
              "290    v Sri Lanka      Mumbai   2-Apr-11  \n",
              "291    v Australia   Melbourne   5-Feb-12  \n",
              "292    v Australia    Brisbane  19-Feb-12  \n",
              "293    v Australia      Sydney  26-Feb-12  \n",
              "294   v Bangladesh       Dhaka  16-Mar-12  \n",
              "\n",
              "[295 rows x 13 columns]"
            ],
            "text/html": [
              "\n",
              "  <div id=\"df-5d7ec0d8-2958-4ea3-913e-c300bbacc5a0\" class=\"colab-df-container\">\n",
              "    <div>\n",
              "<style scoped>\n",
              "    .dataframe tbody tr th:only-of-type {\n",
              "        vertical-align: middle;\n",
              "    }\n",
              "\n",
              "    .dataframe tbody tr th {\n",
              "        vertical-align: top;\n",
              "    }\n",
              "\n",
              "    .dataframe thead th {\n",
              "        text-align: right;\n",
              "    }\n",
              "</style>\n",
              "<table border=\"1\" class=\"dataframe\">\n",
              "  <thead>\n",
              "    <tr style=\"text-align: right;\">\n",
              "      <th></th>\n",
              "      <th>Unnamed: 0</th>\n",
              "      <th>Runs</th>\n",
              "      <th>Mins</th>\n",
              "      <th>BF</th>\n",
              "      <th>4s</th>\n",
              "      <th>6s</th>\n",
              "      <th>SR</th>\n",
              "      <th>Pos</th>\n",
              "      <th>Dismissal</th>\n",
              "      <th>Inns</th>\n",
              "      <th>Opposition</th>\n",
              "      <th>Ground</th>\n",
              "      <th>Start Date</th>\n",
              "    </tr>\n",
              "  </thead>\n",
              "  <tbody>\n",
              "    <tr>\n",
              "      <th>0</th>\n",
              "      <td>1</td>\n",
              "      <td>0</td>\n",
              "      <td>-</td>\n",
              "      <td>2</td>\n",
              "      <td>0</td>\n",
              "      <td>0</td>\n",
              "      <td>0</td>\n",
              "      <td>5</td>\n",
              "      <td>caught</td>\n",
              "      <td>2</td>\n",
              "      <td>v Pakistan</td>\n",
              "      <td>Gujranwala</td>\n",
              "      <td>18-Dec-89</td>\n",
              "    </tr>\n",
              "    <tr>\n",
              "      <th>1</th>\n",
              "      <td>2</td>\n",
              "      <td>0</td>\n",
              "      <td>2</td>\n",
              "      <td>2</td>\n",
              "      <td>0</td>\n",
              "      <td>0</td>\n",
              "      <td>0</td>\n",
              "      <td>5</td>\n",
              "      <td>caught</td>\n",
              "      <td>2</td>\n",
              "      <td>v New Zealand</td>\n",
              "      <td>Dunedin</td>\n",
              "      <td>1-Mar-90</td>\n",
              "    </tr>\n",
              "    <tr>\n",
              "      <th>2</th>\n",
              "      <td>3</td>\n",
              "      <td>36</td>\n",
              "      <td>51</td>\n",
              "      <td>39</td>\n",
              "      <td>5</td>\n",
              "      <td>0</td>\n",
              "      <td>92.3</td>\n",
              "      <td>6</td>\n",
              "      <td>caught</td>\n",
              "      <td>1</td>\n",
              "      <td>v New Zealand</td>\n",
              "      <td>Wellington</td>\n",
              "      <td>6-Mar-90</td>\n",
              "    </tr>\n",
              "    <tr>\n",
              "      <th>3</th>\n",
              "      <td>4</td>\n",
              "      <td>19</td>\n",
              "      <td>38</td>\n",
              "      <td>35</td>\n",
              "      <td>1</td>\n",
              "      <td>1</td>\n",
              "      <td>54.28</td>\n",
              "      <td>4</td>\n",
              "      <td>bowled</td>\n",
              "      <td>2</td>\n",
              "      <td>v England</td>\n",
              "      <td>Leeds</td>\n",
              "      <td>18-Jul-90</td>\n",
              "    </tr>\n",
              "    <tr>\n",
              "      <th>4</th>\n",
              "      <td>5</td>\n",
              "      <td>31</td>\n",
              "      <td>31</td>\n",
              "      <td>26</td>\n",
              "      <td>3</td>\n",
              "      <td>0</td>\n",
              "      <td>119.23</td>\n",
              "      <td>6</td>\n",
              "      <td>bowled</td>\n",
              "      <td>2</td>\n",
              "      <td>v England</td>\n",
              "      <td>Nottingham</td>\n",
              "      <td>20-Jul-90</td>\n",
              "    </tr>\n",
              "    <tr>\n",
              "      <th>...</th>\n",
              "      <td>...</td>\n",
              "      <td>...</td>\n",
              "      <td>...</td>\n",
              "      <td>...</td>\n",
              "      <td>...</td>\n",
              "      <td>...</td>\n",
              "      <td>...</td>\n",
              "      <td>...</td>\n",
              "      <td>...</td>\n",
              "      <td>...</td>\n",
              "      <td>...</td>\n",
              "      <td>...</td>\n",
              "      <td>...</td>\n",
              "    </tr>\n",
              "    <tr>\n",
              "      <th>290</th>\n",
              "      <td>291</td>\n",
              "      <td>18</td>\n",
              "      <td>21</td>\n",
              "      <td>14</td>\n",
              "      <td>2</td>\n",
              "      <td>0</td>\n",
              "      <td>128.57</td>\n",
              "      <td>2</td>\n",
              "      <td>caught</td>\n",
              "      <td>2</td>\n",
              "      <td>v Sri Lanka</td>\n",
              "      <td>Mumbai</td>\n",
              "      <td>2-Apr-11</td>\n",
              "    </tr>\n",
              "    <tr>\n",
              "      <th>291</th>\n",
              "      <td>292</td>\n",
              "      <td>2</td>\n",
              "      <td>9</td>\n",
              "      <td>6</td>\n",
              "      <td>0</td>\n",
              "      <td>0</td>\n",
              "      <td>33.33</td>\n",
              "      <td>2</td>\n",
              "      <td>caught</td>\n",
              "      <td>2</td>\n",
              "      <td>v Australia</td>\n",
              "      <td>Melbourne</td>\n",
              "      <td>5-Feb-12</td>\n",
              "    </tr>\n",
              "    <tr>\n",
              "      <th>292</th>\n",
              "      <td>293</td>\n",
              "      <td>3</td>\n",
              "      <td>21</td>\n",
              "      <td>12</td>\n",
              "      <td>0</td>\n",
              "      <td>0</td>\n",
              "      <td>25</td>\n",
              "      <td>2</td>\n",
              "      <td>caught</td>\n",
              "      <td>2</td>\n",
              "      <td>v Australia</td>\n",
              "      <td>Brisbane</td>\n",
              "      <td>19-Feb-12</td>\n",
              "    </tr>\n",
              "    <tr>\n",
              "      <th>293</th>\n",
              "      <td>294</td>\n",
              "      <td>14</td>\n",
              "      <td>34</td>\n",
              "      <td>15</td>\n",
              "      <td>2</td>\n",
              "      <td>0</td>\n",
              "      <td>93.33</td>\n",
              "      <td>2</td>\n",
              "      <td>run out</td>\n",
              "      <td>2</td>\n",
              "      <td>v Australia</td>\n",
              "      <td>Sydney</td>\n",
              "      <td>26-Feb-12</td>\n",
              "    </tr>\n",
              "    <tr>\n",
              "      <th>294</th>\n",
              "      <td>295</td>\n",
              "      <td>114</td>\n",
              "      <td>205</td>\n",
              "      <td>147</td>\n",
              "      <td>12</td>\n",
              "      <td>1</td>\n",
              "      <td>77.55</td>\n",
              "      <td>2</td>\n",
              "      <td>caught</td>\n",
              "      <td>1</td>\n",
              "      <td>v Bangladesh</td>\n",
              "      <td>Dhaka</td>\n",
              "      <td>16-Mar-12</td>\n",
              "    </tr>\n",
              "  </tbody>\n",
              "</table>\n",
              "<p>295 rows × 13 columns</p>\n",
              "</div>\n",
              "    <div class=\"colab-df-buttons\">\n",
              "\n",
              "  <div class=\"colab-df-container\">\n",
              "    <button class=\"colab-df-convert\" onclick=\"convertToInteractive('df-5d7ec0d8-2958-4ea3-913e-c300bbacc5a0')\"\n",
              "            title=\"Convert this dataframe to an interactive table.\"\n",
              "            style=\"display:none;\">\n",
              "\n",
              "  <svg xmlns=\"http://www.w3.org/2000/svg\" height=\"24px\" viewBox=\"0 -960 960 960\">\n",
              "    <path d=\"M120-120v-720h720v720H120Zm60-500h600v-160H180v160Zm220 220h160v-160H400v160Zm0 220h160v-160H400v160ZM180-400h160v-160H180v160Zm440 0h160v-160H620v160ZM180-180h160v-160H180v160Zm440 0h160v-160H620v160Z\"/>\n",
              "  </svg>\n",
              "    </button>\n",
              "\n",
              "  <style>\n",
              "    .colab-df-container {\n",
              "      display:flex;\n",
              "      gap: 12px;\n",
              "    }\n",
              "\n",
              "    .colab-df-convert {\n",
              "      background-color: #E8F0FE;\n",
              "      border: none;\n",
              "      border-radius: 50%;\n",
              "      cursor: pointer;\n",
              "      display: none;\n",
              "      fill: #1967D2;\n",
              "      height: 32px;\n",
              "      padding: 0 0 0 0;\n",
              "      width: 32px;\n",
              "    }\n",
              "\n",
              "    .colab-df-convert:hover {\n",
              "      background-color: #E2EBFA;\n",
              "      box-shadow: 0px 1px 2px rgba(60, 64, 67, 0.3), 0px 1px 3px 1px rgba(60, 64, 67, 0.15);\n",
              "      fill: #174EA6;\n",
              "    }\n",
              "\n",
              "    .colab-df-buttons div {\n",
              "      margin-bottom: 4px;\n",
              "    }\n",
              "\n",
              "    [theme=dark] .colab-df-convert {\n",
              "      background-color: #3B4455;\n",
              "      fill: #D2E3FC;\n",
              "    }\n",
              "\n",
              "    [theme=dark] .colab-df-convert:hover {\n",
              "      background-color: #434B5C;\n",
              "      box-shadow: 0px 1px 3px 1px rgba(0, 0, 0, 0.15);\n",
              "      filter: drop-shadow(0px 1px 2px rgba(0, 0, 0, 0.3));\n",
              "      fill: #FFFFFF;\n",
              "    }\n",
              "  </style>\n",
              "\n",
              "    <script>\n",
              "      const buttonEl =\n",
              "        document.querySelector('#df-5d7ec0d8-2958-4ea3-913e-c300bbacc5a0 button.colab-df-convert');\n",
              "      buttonEl.style.display =\n",
              "        google.colab.kernel.accessAllowed ? 'block' : 'none';\n",
              "\n",
              "      async function convertToInteractive(key) {\n",
              "        const element = document.querySelector('#df-5d7ec0d8-2958-4ea3-913e-c300bbacc5a0');\n",
              "        const dataTable =\n",
              "          await google.colab.kernel.invokeFunction('convertToInteractive',\n",
              "                                                    [key], {});\n",
              "        if (!dataTable) return;\n",
              "\n",
              "        const docLinkHtml = 'Like what you see? Visit the ' +\n",
              "          '<a target=\"_blank\" href=https://colab.research.google.com/notebooks/data_table.ipynb>data table notebook</a>'\n",
              "          + ' to learn more about interactive tables.';\n",
              "        element.innerHTML = '';\n",
              "        dataTable['output_type'] = 'display_data';\n",
              "        await google.colab.output.renderOutput(dataTable, element);\n",
              "        const docLink = document.createElement('div');\n",
              "        docLink.innerHTML = docLinkHtml;\n",
              "        element.appendChild(docLink);\n",
              "      }\n",
              "    </script>\n",
              "  </div>\n",
              "\n",
              "\n",
              "<div id=\"df-e655ac5b-528c-4ebc-8b87-4a60d7d5d3b9\">\n",
              "  <button class=\"colab-df-quickchart\" onclick=\"quickchart('df-e655ac5b-528c-4ebc-8b87-4a60d7d5d3b9')\"\n",
              "            title=\"Suggest charts.\"\n",
              "            style=\"display:none;\">\n",
              "\n",
              "<svg xmlns=\"http://www.w3.org/2000/svg\" height=\"24px\"viewBox=\"0 0 24 24\"\n",
              "     width=\"24px\">\n",
              "    <g>\n",
              "        <path d=\"M19 3H5c-1.1 0-2 .9-2 2v14c0 1.1.9 2 2 2h14c1.1 0 2-.9 2-2V5c0-1.1-.9-2-2-2zM9 17H7v-7h2v7zm4 0h-2V7h2v10zm4 0h-2v-4h2v4z\"/>\n",
              "    </g>\n",
              "</svg>\n",
              "  </button>\n",
              "\n",
              "<style>\n",
              "  .colab-df-quickchart {\n",
              "      --bg-color: #E8F0FE;\n",
              "      --fill-color: #1967D2;\n",
              "      --hover-bg-color: #E2EBFA;\n",
              "      --hover-fill-color: #174EA6;\n",
              "      --disabled-fill-color: #AAA;\n",
              "      --disabled-bg-color: #DDD;\n",
              "  }\n",
              "\n",
              "  [theme=dark] .colab-df-quickchart {\n",
              "      --bg-color: #3B4455;\n",
              "      --fill-color: #D2E3FC;\n",
              "      --hover-bg-color: #434B5C;\n",
              "      --hover-fill-color: #FFFFFF;\n",
              "      --disabled-bg-color: #3B4455;\n",
              "      --disabled-fill-color: #666;\n",
              "  }\n",
              "\n",
              "  .colab-df-quickchart {\n",
              "    background-color: var(--bg-color);\n",
              "    border: none;\n",
              "    border-radius: 50%;\n",
              "    cursor: pointer;\n",
              "    display: none;\n",
              "    fill: var(--fill-color);\n",
              "    height: 32px;\n",
              "    padding: 0;\n",
              "    width: 32px;\n",
              "  }\n",
              "\n",
              "  .colab-df-quickchart:hover {\n",
              "    background-color: var(--hover-bg-color);\n",
              "    box-shadow: 0 1px 2px rgba(60, 64, 67, 0.3), 0 1px 3px 1px rgba(60, 64, 67, 0.15);\n",
              "    fill: var(--button-hover-fill-color);\n",
              "  }\n",
              "\n",
              "  .colab-df-quickchart-complete:disabled,\n",
              "  .colab-df-quickchart-complete:disabled:hover {\n",
              "    background-color: var(--disabled-bg-color);\n",
              "    fill: var(--disabled-fill-color);\n",
              "    box-shadow: none;\n",
              "  }\n",
              "\n",
              "  .colab-df-spinner {\n",
              "    border: 2px solid var(--fill-color);\n",
              "    border-color: transparent;\n",
              "    border-bottom-color: var(--fill-color);\n",
              "    animation:\n",
              "      spin 1s steps(1) infinite;\n",
              "  }\n",
              "\n",
              "  @keyframes spin {\n",
              "    0% {\n",
              "      border-color: transparent;\n",
              "      border-bottom-color: var(--fill-color);\n",
              "      border-left-color: var(--fill-color);\n",
              "    }\n",
              "    20% {\n",
              "      border-color: transparent;\n",
              "      border-left-color: var(--fill-color);\n",
              "      border-top-color: var(--fill-color);\n",
              "    }\n",
              "    30% {\n",
              "      border-color: transparent;\n",
              "      border-left-color: var(--fill-color);\n",
              "      border-top-color: var(--fill-color);\n",
              "      border-right-color: var(--fill-color);\n",
              "    }\n",
              "    40% {\n",
              "      border-color: transparent;\n",
              "      border-right-color: var(--fill-color);\n",
              "      border-top-color: var(--fill-color);\n",
              "    }\n",
              "    60% {\n",
              "      border-color: transparent;\n",
              "      border-right-color: var(--fill-color);\n",
              "    }\n",
              "    80% {\n",
              "      border-color: transparent;\n",
              "      border-right-color: var(--fill-color);\n",
              "      border-bottom-color: var(--fill-color);\n",
              "    }\n",
              "    90% {\n",
              "      border-color: transparent;\n",
              "      border-bottom-color: var(--fill-color);\n",
              "    }\n",
              "  }\n",
              "</style>\n",
              "\n",
              "  <script>\n",
              "    async function quickchart(key) {\n",
              "      const quickchartButtonEl =\n",
              "        document.querySelector('#' + key + ' button');\n",
              "      quickchartButtonEl.disabled = true;  // To prevent multiple clicks.\n",
              "      quickchartButtonEl.classList.add('colab-df-spinner');\n",
              "      try {\n",
              "        const charts = await google.colab.kernel.invokeFunction(\n",
              "            'suggestCharts', [key], {});\n",
              "      } catch (error) {\n",
              "        console.error('Error during call to suggestCharts:', error);\n",
              "      }\n",
              "      quickchartButtonEl.classList.remove('colab-df-spinner');\n",
              "      quickchartButtonEl.classList.add('colab-df-quickchart-complete');\n",
              "    }\n",
              "    (() => {\n",
              "      let quickchartButtonEl =\n",
              "        document.querySelector('#df-e655ac5b-528c-4ebc-8b87-4a60d7d5d3b9 button');\n",
              "      quickchartButtonEl.style.display =\n",
              "        google.colab.kernel.accessAllowed ? 'block' : 'none';\n",
              "    })();\n",
              "  </script>\n",
              "</div>\n",
              "    </div>\n",
              "  </div>\n"
            ]
          },
          "metadata": {},
          "execution_count": 5
        }
      ],
      "source": [
        "df = pd.read_csv('tendulkar_ODI.csv')\n",
        "df"
      ]
    },
    {
      "cell_type": "code",
      "execution_count": null,
      "id": "e06bd528",
      "metadata": {
        "colab": {
          "base_uri": "https://localhost:8080/"
        },
        "id": "e06bd528",
        "outputId": "a8c6d783-c321-428c-ddc2-68aa2e4313c0"
      },
      "outputs": [
        {
          "output_type": "stream",
          "name": "stdout",
          "text": [
            "<class 'pandas.core.frame.DataFrame'>\n",
            "RangeIndex: 295 entries, 0 to 294\n",
            "Data columns (total 13 columns):\n",
            " #   Column      Non-Null Count  Dtype \n",
            "---  ------      --------------  ----- \n",
            " 0   Unnamed: 0  295 non-null    int64 \n",
            " 1   Runs        295 non-null    object\n",
            " 2   Mins        295 non-null    object\n",
            " 3   BF          295 non-null    object\n",
            " 4   4s          295 non-null    object\n",
            " 5   6s          295 non-null    object\n",
            " 6   SR          295 non-null    object\n",
            " 7   Pos         295 non-null    object\n",
            " 8   Dismissal   295 non-null    object\n",
            " 9   Inns        295 non-null    object\n",
            " 10  Opposition  295 non-null    object\n",
            " 11  Ground      295 non-null    object\n",
            " 12  Start Date  295 non-null    object\n",
            "dtypes: int64(1), object(12)\n",
            "memory usage: 30.1+ KB\n"
          ]
        }
      ],
      "source": [
        "df.info()"
      ]
    },
    {
      "cell_type": "code",
      "execution_count": null,
      "id": "39ebca37",
      "metadata": {
        "id": "39ebca37",
        "outputId": "ab89864a-99ed-40f9-ae29-5ef97dc7c363",
        "colab": {
          "base_uri": "https://localhost:8080/",
          "height": 175
        }
      },
      "outputs": [
        {
          "output_type": "error",
          "ename": "NameError",
          "evalue": "ignored",
          "traceback": [
            "\u001b[0;31m---------------------------------------------------------------------------\u001b[0m",
            "\u001b[0;31mNameError\u001b[0m                                 Traceback (most recent call last)",
            "\u001b[0;32m<ipython-input-1-4c0d70e12825>\u001b[0m in \u001b[0;36m<cell line: 1>\u001b[0;34m()\u001b[0m\n\u001b[0;32m----> 1\u001b[0;31m \u001b[0mdf\u001b[0m\u001b[0;34m[\u001b[0m\u001b[0;34m'Runs'\u001b[0m\u001b[0;34m]\u001b[0m \u001b[0;34m=\u001b[0m \u001b[0mdf\u001b[0m\u001b[0;34m[\u001b[0m\u001b[0;34m'Runs'\u001b[0m\u001b[0;34m]\u001b[0m\u001b[0;34m.\u001b[0m\u001b[0mapply\u001b[0m\u001b[0;34m(\u001b[0m\u001b[0;32mlambda\u001b[0m \u001b[0mx\u001b[0m\u001b[0;34m:\u001b[0m \u001b[0mx\u001b[0m\u001b[0;34m.\u001b[0m\u001b[0mreplace\u001b[0m\u001b[0;34m(\u001b[0m\u001b[0;34m'*'\u001b[0m\u001b[0;34m,\u001b[0m\u001b[0;34m''\u001b[0m\u001b[0;34m)\u001b[0m\u001b[0;34m)\u001b[0m\u001b[0;34m\u001b[0m\u001b[0;34m\u001b[0m\u001b[0m\n\u001b[0m",
            "\u001b[0;31mNameError\u001b[0m: name 'df' is not defined"
          ]
        }
      ],
      "source": [
        "df['Runs'] = df['Runs'].apply(lambda x: x.replace('*',''))"
      ]
    },
    {
      "cell_type": "code",
      "execution_count": null,
      "id": "635810ca",
      "metadata": {
        "id": "635810ca"
      },
      "outputs": [],
      "source": [
        "df['Runs'] = df['Runs'].apply(lambda x: x.replace('DNB',''))"
      ]
    },
    {
      "cell_type": "code",
      "execution_count": null,
      "id": "c94105d5",
      "metadata": {
        "colab": {
          "base_uri": "https://localhost:8080/"
        },
        "id": "c94105d5",
        "outputId": "88ca0be9-0eaf-4853-b4ad-f2290fa88f9f"
      },
      "outputs": [
        {
          "output_type": "stream",
          "name": "stdout",
          "text": [
            "1      16\n",
            "2      14\n",
            "0      12\n",
            "4       9\n",
            "21      8\n",
            "       ..\n",
            "81      1\n",
            "89      1\n",
            "102     1\n",
            "86      1\n",
            "85      1\n",
            "Name: Runs, Length: 107, dtype: int64\n"
          ]
        }
      ],
      "source": [
        "print(df.Runs.value_counts())"
      ]
    },
    {
      "cell_type": "code",
      "execution_count": null,
      "id": "9d9887b4",
      "metadata": {
        "id": "9d9887b4"
      },
      "outputs": [],
      "source": [
        "# df = pd.read_csv(\"tendulkar_ODI.csv\")\n",
        "# # print(df.info())\n",
        "# df = df.drop(df[df['Runs'] == \"DNB\"].index)\n",
        "# df = df.drop(df[df['Runs'] == \"TDNB\"].index)\n",
        "# # print(df.head(40))\n",
        "# # # print(df.iloc[36])\n",
        "# # df1 =(df['Runs'].loc[df['Runs'].str.contains(\"\\*\")])\n",
        "# df[\"Runs\"] = df[\"Runs\"].replace(\"\\*\",\"\", regex = True).astype(int)\n",
        "# bins = [0,1,2,3,4]\n",
        "# plt.hist(df[\"4s\"], histtype= \"bar\")\n",
        "# plt.show()\n",
        "\n",
        "# # plt.hist(stats_df[stats_df['Match Type']=='Test']['4s'],alpha=0.4, color = 'r', bins= np.arange(0,35,5))\n",
        "# # df.to_csv(\"file1.csv\")"
      ]
    },
    {
      "cell_type": "code",
      "execution_count": null,
      "id": "428472e3",
      "metadata": {
        "colab": {
          "base_uri": "https://localhost:8080/",
          "height": 467
        },
        "id": "428472e3",
        "outputId": "ed15d684-ca82-46bc-8789-797a2ece99f6"
      },
      "outputs": [
        {
          "output_type": "execute_result",
          "data": {
            "text/plain": [
              "<Axes: xlabel='4s', ylabel='Count'>"
            ]
          },
          "metadata": {},
          "execution_count": 10
        },
        {
          "output_type": "display_data",
          "data": {
            "text/plain": [
              "<Figure size 640x480 with 1 Axes>"
            ],
            "image/png": "[encoded data removed]"
          },
          "metadata": {}
        }
      ],
      "source": [
        "sns.histplot(df['4s'])"
      ]
    },
    {
      "cell_type": "code",
      "execution_count": null,
      "id": "56fcfa27",
      "metadata": {
        "colab": {
          "base_uri": "https://localhost:8080/",
          "height": 390
        },
        "id": "56fcfa27",
        "outputId": "dbefd175-02aa-4587-b6da-e041308aeb0b"
      },
      "outputs": [
        {
          "output_type": "error",
          "ename": "FileNotFoundError",
          "evalue": "ignored",
          "traceback": [
            "\u001b[0;31m---------------------------------------------------------------------------\u001b[0m",
            "\u001b[0;31mFileNotFoundError\u001b[0m                         Traceback (most recent call last)",
            "\u001b[0;32m<ipython-input-13-07e86551b8a9>\u001b[0m in \u001b[0;36m<cell line: 1>\u001b[0;34m()\u001b[0m\n\u001b[0;32m----> 1\u001b[0;31m \u001b[0mdf2\u001b[0m \u001b[0;34m=\u001b[0m \u001b[0mpd\u001b[0m\u001b[0;34m.\u001b[0m\u001b[0mread_csv\u001b[0m\u001b[0;34m(\u001b[0m\u001b[0;34m'/content/drive/MyDrive/MS Aug 23/Course 2 (Statistics Essentials)/Exploratory Data Analysis (EDA)/popularity.csv'\u001b[0m\u001b[0;34m)\u001b[0m\u001b[0;34m\u001b[0m\u001b[0;34m\u001b[0m\u001b[0m\n\u001b[0m\u001b[1;32m      2\u001b[0m \u001b[0mdf2\u001b[0m\u001b[0;34m\u001b[0m\u001b[0;34m\u001b[0m\u001b[0m\n",
            "\u001b[0;32m/usr/local/lib/python3.10/dist-packages/pandas/util/_decorators.py\u001b[0m in \u001b[0;36mwrapper\u001b[0;34m(*args, **kwargs)\u001b[0m\n\u001b[1;32m    209\u001b[0m                 \u001b[0;32melse\u001b[0m\u001b[0;34m:\u001b[0m\u001b[0;34m\u001b[0m\u001b[0;34m\u001b[0m\u001b[0m\n\u001b[1;32m    210\u001b[0m                     \u001b[0mkwargs\u001b[0m\u001b[0;34m[\u001b[0m\u001b[0mnew_arg_name\u001b[0m\u001b[0;34m]\u001b[0m \u001b[0;34m=\u001b[0m \u001b[0mnew_arg_value\u001b[0m\u001b[0;34m\u001b[0m\u001b[0;34m\u001b[0m\u001b[0m\n\u001b[0;32m--> 211\u001b[0;31m             \u001b[0;32mreturn\u001b[0m \u001b[0mfunc\u001b[0m\u001b[0;34m(\u001b[0m\u001b[0;34m*\u001b[0m\u001b[0margs\u001b[0m\u001b[0;34m,\u001b[0m \u001b[0;34m**\u001b[0m\u001b[0mkwargs\u001b[0m\u001b[0;34m)\u001b[0m\u001b[0;34m\u001b[0m\u001b[0;34m\u001b[0m\u001b[0m\n\u001b[0m\u001b[1;32m    212\u001b[0m \u001b[0;34m\u001b[0m\u001b[0m\n\u001b[1;32m    213\u001b[0m         \u001b[0;32mreturn\u001b[0m \u001b[0mcast\u001b[0m\u001b[0;34m(\u001b[0m\u001b[0mF\u001b[0m\u001b[0;34m,\u001b[0m \u001b[0mwrapper\u001b[0m\u001b[0;34m)\u001b[0m\u001b[0;34m\u001b[0m\u001b[0;34m\u001b[0m\u001b[0m\n",
            "\u001b[0;32m/usr/local/lib/python3.10/dist-packages/pandas/util/_decorators.py\u001b[0m in \u001b[0;36mwrapper\u001b[0;34m(*args, **kwargs)\u001b[0m\n\u001b[1;32m    329\u001b[0m                     \u001b[0mstacklevel\u001b[0m\u001b[0;34m=\u001b[0m\u001b[0mfind_stack_level\u001b[0m\u001b[0;34m(\u001b[0m\u001b[0;34m)\u001b[0m\u001b[0;34m,\u001b[0m\u001b[0;34m\u001b[0m\u001b[0;34m\u001b[0m\u001b[0m\n\u001b[1;32m    330\u001b[0m                 )\n\u001b[0;32m--> 331\u001b[0;31m             \u001b[0;32mreturn\u001b[0m \u001b[0mfunc\u001b[0m\u001b[0;34m(\u001b[0m\u001b[0;34m*\u001b[0m\u001b[0margs\u001b[0m\u001b[0;34m,\u001b[0m \u001b[0;34m**\u001b[0m\u001b[0mkwargs\u001b[0m\u001b[0;34m)\u001b[0m\u001b[0;34m\u001b[0m\u001b[0;34m\u001b[0m\u001b[0m\n\u001b[0m\u001b[1;32m    332\u001b[0m \u001b[0;34m\u001b[0m\u001b[0m\n\u001b[1;32m    333\u001b[0m         \u001b[0;31m# error: \"Callable[[VarArg(Any), KwArg(Any)], Any]\" has no\u001b[0m\u001b[0;34m\u001b[0m\u001b[0;34m\u001b[0m\u001b[0m\n",
            "\u001b[0;32m/usr/local/lib/python3.10/dist-packages/pandas/io/parsers/readers.py\u001b[0m in \u001b[0;36mread_csv\u001b[0;34m(filepath_or_buffer, sep, delimiter, header, names, index_col, usecols, squeeze, prefix, mangle_dupe_cols, dtype, engine, converters, true_values, false_values, skipinitialspace, skiprows, skipfooter, nrows, na_values, keep_default_na, na_filter, verbose, skip_blank_lines, parse_dates, infer_datetime_format, keep_date_col, date_parser, dayfirst, cache_dates, iterator, chunksize, compression, thousands, decimal, lineterminator, quotechar, quoting, doublequote, escapechar, comment, encoding, encoding_errors, dialect, error_bad_lines, warn_bad_lines, on_bad_lines, delim_whitespace, low_memory, memory_map, float_precision, storage_options)\u001b[0m\n\u001b[1;32m    948\u001b[0m     \u001b[0mkwds\u001b[0m\u001b[0;34m.\u001b[0m\u001b[0mupdate\u001b[0m\u001b[0;34m(\u001b[0m\u001b[0mkwds_defaults\u001b[0m\u001b[0;34m)\u001b[0m\u001b[0;34m\u001b[0m\u001b[0;34m\u001b[0m\u001b[0m\n\u001b[1;32m    949\u001b[0m \u001b[0;34m\u001b[0m\u001b[0m\n\u001b[0;32m--> 950\u001b[0;31m     \u001b[0;32mreturn\u001b[0m \u001b[0m_read\u001b[0m\u001b[0;34m(\u001b[0m\u001b[0mfilepath_or_buffer\u001b[0m\u001b[0;34m,\u001b[0m \u001b[0mkwds\u001b[0m\u001b[0;34m)\u001b[0m\u001b[0;34m\u001b[0m\u001b[0;34m\u001b[0m\u001b[0m\n\u001b[0m\u001b[1;32m    951\u001b[0m \u001b[0;34m\u001b[0m\u001b[0m\n\u001b[1;32m    952\u001b[0m \u001b[0;34m\u001b[0m\u001b[0m\n",
            "\u001b[0;32m/usr/local/lib/python3.10/dist-packages/pandas/io/parsers/readers.py\u001b[0m in \u001b[0;36m_read\u001b[0;34m(filepath_or_buffer, kwds)\u001b[0m\n\u001b[1;32m    603\u001b[0m \u001b[0;34m\u001b[0m\u001b[0m\n\u001b[1;32m    604\u001b[0m     \u001b[0;31m# Create the parser.\u001b[0m\u001b[0;34m\u001b[0m\u001b[0;34m\u001b[0m\u001b[0m\n\u001b[0;32m--> 605\u001b[0;31m     \u001b[0mparser\u001b[0m \u001b[0;34m=\u001b[0m \u001b[0mTextFileReader\u001b[0m\u001b[0;34m(\u001b[0m\u001b[0mfilepath_or_buffer\u001b[0m\u001b[0;34m,\u001b[0m \u001b[0;34m**\u001b[0m\u001b[0mkwds\u001b[0m\u001b[0;34m)\u001b[0m\u001b[0;34m\u001b[0m\u001b[0;34m\u001b[0m\u001b[0m\n\u001b[0m\u001b[1;32m    606\u001b[0m \u001b[0;34m\u001b[0m\u001b[0m\n\u001b[1;32m    607\u001b[0m     \u001b[0;32mif\u001b[0m \u001b[0mchunksize\u001b[0m \u001b[0;32mor\u001b[0m \u001b[0miterator\u001b[0m\u001b[0;34m:\u001b[0m\u001b[0;34m\u001b[0m\u001b[0;34m\u001b[0m\u001b[0m\n",
            "\u001b[0;32m/usr/local/lib/python3.10/dist-packages/pandas/io/parsers/readers.py\u001b[0m in \u001b[0;36m__init__\u001b[0;34m(self, f, engine, **kwds)\u001b[0m\n\u001b[1;32m   1440\u001b[0m \u001b[0;34m\u001b[0m\u001b[0m\n\u001b[1;32m   1441\u001b[0m         \u001b[0mself\u001b[0m\u001b[0;34m.\u001b[0m\u001b[0mhandles\u001b[0m\u001b[0;34m:\u001b[0m \u001b[0mIOHandles\u001b[0m \u001b[0;34m|\u001b[0m \u001b[0;32mNone\u001b[0m \u001b[0;34m=\u001b[0m \u001b[0;32mNone\u001b[0m\u001b[0;34m\u001b[0m\u001b[0;34m\u001b[0m\u001b[0m\n\u001b[0;32m-> 1442\u001b[0;31m         \u001b[0mself\u001b[0m\u001b[0;34m.\u001b[0m\u001b[0m_engine\u001b[0m \u001b[0;34m=\u001b[0m \u001b[0mself\u001b[0m\u001b[0;34m.\u001b[0m\u001b[0m_make_engine\u001b[0m\u001b[0;34m(\u001b[0m\u001b[0mf\u001b[0m\u001b[0;34m,\u001b[0m \u001b[0mself\u001b[0m\u001b[0;34m.\u001b[0m\u001b[0mengine\u001b[0m\u001b[0;34m)\u001b[0m\u001b[0;34m\u001b[0m\u001b[0;34m\u001b[0m\u001b[0m\n\u001b[0m\u001b[1;32m   1443\u001b[0m \u001b[0;34m\u001b[0m\u001b[0m\n\u001b[1;32m   1444\u001b[0m     \u001b[0;32mdef\u001b[0m \u001b[0mclose\u001b[0m\u001b[0;34m(\u001b[0m\u001b[0mself\u001b[0m\u001b[0;34m)\u001b[0m \u001b[0;34m->\u001b[0m \u001b[0;32mNone\u001b[0m\u001b[0;34m:\u001b[0m\u001b[0;34m\u001b[0m\u001b[0;34m\u001b[0m\u001b[0m\n",
            "\u001b[0;32m/usr/local/lib/python3.10/dist-packages/pandas/io/parsers/readers.py\u001b[0m in \u001b[0;36m_make_engine\u001b[0;34m(self, f, engine)\u001b[0m\n\u001b[1;32m   1733\u001b[0m                 \u001b[0;32mif\u001b[0m \u001b[0;34m\"b\"\u001b[0m \u001b[0;32mnot\u001b[0m \u001b[0;32min\u001b[0m \u001b[0mmode\u001b[0m\u001b[0;34m:\u001b[0m\u001b[0;34m\u001b[0m\u001b[0;34m\u001b[0m\u001b[0m\n\u001b[1;32m   1734\u001b[0m                     \u001b[0mmode\u001b[0m \u001b[0;34m+=\u001b[0m \u001b[0;34m\"b\"\u001b[0m\u001b[0;34m\u001b[0m\u001b[0;34m\u001b[0m\u001b[0m\n\u001b[0;32m-> 1735\u001b[0;31m             self.handles = get_handle(\n\u001b[0m\u001b[1;32m   1736\u001b[0m                 \u001b[0mf\u001b[0m\u001b[0;34m,\u001b[0m\u001b[0;34m\u001b[0m\u001b[0;34m\u001b[0m\u001b[0m\n\u001b[1;32m   1737\u001b[0m                 \u001b[0mmode\u001b[0m\u001b[0;34m,\u001b[0m\u001b[0;34m\u001b[0m\u001b[0;34m\u001b[0m\u001b[0m\n",
            "\u001b[0;32m/usr/local/lib/python3.10/dist-packages/pandas/io/common.py\u001b[0m in \u001b[0;36mget_handle\u001b[0;34m(path_or_buf, mode, encoding, compression, memory_map, is_text, errors, storage_options)\u001b[0m\n\u001b[1;32m    854\u001b[0m         \u001b[0;32mif\u001b[0m \u001b[0mioargs\u001b[0m\u001b[0;34m.\u001b[0m\u001b[0mencoding\u001b[0m \u001b[0;32mand\u001b[0m \u001b[0;34m\"b\"\u001b[0m \u001b[0;32mnot\u001b[0m \u001b[0;32min\u001b[0m \u001b[0mioargs\u001b[0m\u001b[0;34m.\u001b[0m\u001b[0mmode\u001b[0m\u001b[0;34m:\u001b[0m\u001b[0;34m\u001b[0m\u001b[0;34m\u001b[0m\u001b[0m\n\u001b[1;32m    855\u001b[0m             \u001b[0;31m# Encoding\u001b[0m\u001b[0;34m\u001b[0m\u001b[0;34m\u001b[0m\u001b[0m\n\u001b[0;32m--> 856\u001b[0;31m             handle = open(\n\u001b[0m\u001b[1;32m    857\u001b[0m                 \u001b[0mhandle\u001b[0m\u001b[0;34m,\u001b[0m\u001b[0;34m\u001b[0m\u001b[0;34m\u001b[0m\u001b[0m\n\u001b[1;32m    858\u001b[0m                 \u001b[0mioargs\u001b[0m\u001b[0;34m.\u001b[0m\u001b[0mmode\u001b[0m\u001b[0;34m,\u001b[0m\u001b[0;34m\u001b[0m\u001b[0;34m\u001b[0m\u001b[0m\n",
            "\u001b[0;31mFileNotFoundError\u001b[0m: [Errno 2] No such file or directory: '/content/drive/MyDrive/MS Aug 23/Course 2 (Statistics Essentials)/Exploratory Data Analysis (EDA)/popularity.csv'"
          ]
        }
      ],
      "source": [
        "df2 = pd.read_csv('/content/drive/MyDrive/MS Aug 23/Course 2 (Statistics Essentials)/Exploratory Data Analysis (EDA)/popularity.csv')\n",
        "df2"
      ]
    },
    {
      "cell_type": "code",
      "execution_count": null,
      "id": "1fc744a4",
      "metadata": {
        "colab": {
          "base_uri": "https://localhost:8080/",
          "height": 350
        },
        "id": "1fc744a4",
        "outputId": "8b530280-70a9-41a3-c6bf-26918c8d465b"
      },
      "outputs": [
        {
          "output_type": "execute_result",
          "data": {
            "text/plain": [
              "          timedelta   n_tokens_title   n_tokens_content   n_unique_tokens  \\\n",
              "count  39644.000000     39644.000000       39644.000000      39644.000000   \n",
              "mean     354.530471        10.398749         546.514731          0.548216   \n",
              "std      214.163767         2.114037         471.107508          3.520708   \n",
              "min        8.000000         2.000000           0.000000          0.000000   \n",
              "25%      164.000000         9.000000         246.000000          0.470870   \n",
              "50%      339.000000        10.000000         409.000000          0.539226   \n",
              "75%      542.000000        12.000000         716.000000          0.608696   \n",
              "max      731.000000        23.000000        8474.000000        701.000000   \n",
              "\n",
              "        n_non_stop_words   n_non_stop_unique_tokens     num_hrefs  \\\n",
              "count       39644.000000               39644.000000  39644.000000   \n",
              "mean            0.996469                   0.689175     10.883690   \n",
              "std             5.231231                   3.264816     11.332017   \n",
              "min             0.000000                   0.000000      0.000000   \n",
              "25%             1.000000                   0.625739      4.000000   \n",
              "50%             1.000000                   0.690476      8.000000   \n",
              "75%             1.000000                   0.754630     14.000000   \n",
              "max          1042.000000                 650.000000    304.000000   \n",
              "\n",
              "        num_self_hrefs      num_imgs    num_videos  ...  \\\n",
              "count     39644.000000  39644.000000  39644.000000  ...   \n",
              "mean          3.293638      4.544143      1.249874  ...   \n",
              "std           3.855141      8.309434      4.107855  ...   \n",
              "min           0.000000      0.000000      0.000000  ...   \n",
              "25%           1.000000      1.000000      0.000000  ...   \n",
              "50%           3.000000      1.000000      0.000000  ...   \n",
              "75%           4.000000      4.000000      1.000000  ...   \n",
              "max         116.000000    128.000000     91.000000  ...   \n",
              "\n",
              "        min_positive_polarity   max_positive_polarity   avg_negative_polarity  \\\n",
              "count            39644.000000            39644.000000            39644.000000   \n",
              "mean                 0.095446                0.756728               -0.259524   \n",
              "std                  0.071315                0.247786                0.127726   \n",
              "min                  0.000000                0.000000               -1.000000   \n",
              "25%                  0.050000                0.600000               -0.328383   \n",
              "50%                  0.100000                0.800000               -0.253333   \n",
              "75%                  0.100000                1.000000               -0.186905   \n",
              "max                  1.000000                1.000000                0.000000   \n",
              "\n",
              "        min_negative_polarity   max_negative_polarity   title_subjectivity  \\\n",
              "count            39644.000000            39644.000000         39644.000000   \n",
              "mean                -0.521944               -0.107500             0.282353   \n",
              "std                  0.290290                0.095373             0.324247   \n",
              "min                 -1.000000               -1.000000             0.000000   \n",
              "25%                 -0.700000               -0.125000             0.000000   \n",
              "50%                 -0.500000               -0.100000             0.150000   \n",
              "75%                 -0.300000               -0.050000             0.500000   \n",
              "max                  0.000000                0.000000             1.000000   \n",
              "\n",
              "        title_sentiment_polarity   abs_title_subjectivity  \\\n",
              "count               39644.000000             39644.000000   \n",
              "mean                    0.071425                 0.341843   \n",
              "std                     0.265450                 0.188791   \n",
              "min                    -1.000000                 0.000000   \n",
              "25%                     0.000000                 0.166667   \n",
              "50%                     0.000000                 0.500000   \n",
              "75%                     0.150000                 0.500000   \n",
              "max                     1.000000                 0.500000   \n",
              "\n",
              "        abs_title_sentiment_polarity         shares  \n",
              "count                   39644.000000   39644.000000  \n",
              "mean                        0.156064    3395.380184  \n",
              "std                         0.226294   11626.950749  \n",
              "min                         0.000000       1.000000  \n",
              "25%                         0.000000     946.000000  \n",
              "50%                         0.000000    1400.000000  \n",
              "75%                         0.250000    2800.000000  \n",
              "max                         1.000000  843300.000000  \n",
              "\n",
              "[8 rows x 60 columns]"
            ],
            "text/html": [
              "\n",
              "  <div id=\"df-e3920e01-98ff-4ace-85c8-c55935c6894e\" class=\"colab-df-container\">\n",
              "    <div>\n",
              "<style scoped>\n",
              "    .dataframe tbody tr th:only-of-type {\n",
              "        vertical-align: middle;\n",
              "    }\n",
              "\n",
              "    .dataframe tbody tr th {\n",
              "        vertical-align: top;\n",
              "    }\n",
              "\n",
              "    .dataframe thead th {\n",
              "        text-align: right;\n",
              "    }\n",
              "</style>\n",
              "<table border=\"1\" class=\"dataframe\">\n",
              "  <thead>\n",
              "    <tr style=\"text-align: right;\">\n",
              "      <th></th>\n",
              "      <th>timedelta</th>\n",
              "      <th>n_tokens_title</th>\n",
              "      <th>n_tokens_content</th>\n",
              "      <th>n_unique_tokens</th>\n",
              "      <th>n_non_stop_words</th>\n",
              "      <th>n_non_stop_unique_tokens</th>\n",
              "      <th>num_hrefs</th>\n",
              "      <th>num_self_hrefs</th>\n",
              "      <th>num_imgs</th>\n",
              "      <th>num_videos</th>\n",
              "      <th>...</th>\n",
              "      <th>min_positive_polarity</th>\n",
              "      <th>max_positive_polarity</th>\n",
              "      <th>avg_negative_polarity</th>\n",
              "      <th>min_negative_polarity</th>\n",
              "      <th>max_negative_polarity</th>\n",
              "      <th>title_subjectivity</th>\n",
              "      <th>title_sentiment_polarity</th>\n",
              "      <th>abs_title_subjectivity</th>\n",
              "      <th>abs_title_sentiment_polarity</th>\n",
              "      <th>shares</th>\n",
              "    </tr>\n",
              "  </thead>\n",
              "  <tbody>\n",
              "    <tr>\n",
              "      <th>count</th>\n",
              "      <td>39644.000000</td>\n",
              "      <td>39644.000000</td>\n",
              "      <td>39644.000000</td>\n",
              "      <td>39644.000000</td>\n",
              "      <td>39644.000000</td>\n",
              "      <td>39644.000000</td>\n",
              "      <td>39644.000000</td>\n",
              "      <td>39644.000000</td>\n",
              "      <td>39644.000000</td>\n",
              "      <td>39644.000000</td>\n",
              "      <td>...</td>\n",
              "      <td>39644.000000</td>\n",
              "      <td>39644.000000</td>\n",
              "      <td>39644.000000</td>\n",
              "      <td>39644.000000</td>\n",
              "      <td>39644.000000</td>\n",
              "      <td>39644.000000</td>\n",
              "      <td>39644.000000</td>\n",
              "      <td>39644.000000</td>\n",
              "      <td>39644.000000</td>\n",
              "      <td>39644.000000</td>\n",
              "    </tr>\n",
              "    <tr>\n",
              "      <th>mean</th>\n",
              "      <td>354.530471</td>\n",
              "      <td>10.398749</td>\n",
              "      <td>546.514731</td>\n",
              "      <td>0.548216</td>\n",
              "      <td>0.996469</td>\n",
              "      <td>0.689175</td>\n",
              "      <td>10.883690</td>\n",
              "      <td>3.293638</td>\n",
              "      <td>4.544143</td>\n",
              "      <td>1.249874</td>\n",
              "      <td>...</td>\n",
              "      <td>0.095446</td>\n",
              "      <td>0.756728</td>\n",
              "      <td>-0.259524</td>\n",
              "      <td>-0.521944</td>\n",
              "      <td>-0.107500</td>\n",
              "      <td>0.282353</td>\n",
              "      <td>0.071425</td>\n",
              "      <td>0.341843</td>\n",
              "      <td>0.156064</td>\n",
              "      <td>3395.380184</td>\n",
              "    </tr>\n",
              "    <tr>\n",
              "      <th>std</th>\n",
              "      <td>214.163767</td>\n",
              "      <td>2.114037</td>\n",
              "      <td>471.107508</td>\n",
              "      <td>3.520708</td>\n",
              "      <td>5.231231</td>\n",
              "      <td>3.264816</td>\n",
              "      <td>11.332017</td>\n",
              "      <td>3.855141</td>\n",
              "      <td>8.309434</td>\n",
              "      <td>4.107855</td>\n",
              "      <td>...</td>\n",
              "      <td>0.071315</td>\n",
              "      <td>0.247786</td>\n",
              "      <td>0.127726</td>\n",
              "      <td>0.290290</td>\n",
              "      <td>0.095373</td>\n",
              "      <td>0.324247</td>\n",
              "      <td>0.265450</td>\n",
              "      <td>0.188791</td>\n",
              "      <td>0.226294</td>\n",
              "      <td>11626.950749</td>\n",
              "    </tr>\n",
              "    <tr>\n",
              "      <th>min</th>\n",
              "      <td>8.000000</td>\n",
              "      <td>2.000000</td>\n",
              "      <td>0.000000</td>\n",
              "      <td>0.000000</td>\n",
              "      <td>0.000000</td>\n",
              "      <td>0.000000</td>\n",
              "      <td>0.000000</td>\n",
              "      <td>0.000000</td>\n",
              "      <td>0.000000</td>\n",
              "      <td>0.000000</td>\n",
              "      <td>...</td>\n",
              "      <td>0.000000</td>\n",
              "      <td>0.000000</td>\n",
              "      <td>-1.000000</td>\n",
              "      <td>-1.000000</td>\n",
              "      <td>-1.000000</td>\n",
              "      <td>0.000000</td>\n",
              "      <td>-1.000000</td>\n",
              "      <td>0.000000</td>\n",
              "      <td>0.000000</td>\n",
              "      <td>1.000000</td>\n",
              "    </tr>\n",
              "    <tr>\n",
              "      <th>25%</th>\n",
              "      <td>164.000000</td>\n",
              "      <td>9.000000</td>\n",
              "      <td>246.000000</td>\n",
              "      <td>0.470870</td>\n",
              "      <td>1.000000</td>\n",
              "      <td>0.625739</td>\n",
              "      <td>4.000000</td>\n",
              "      <td>1.000000</td>\n",
              "      <td>1.000000</td>\n",
              "      <td>0.000000</td>\n",
              "      <td>...</td>\n",
              "      <td>0.050000</td>\n",
              "      <td>0.600000</td>\n",
              "      <td>-0.328383</td>\n",
              "      <td>-0.700000</td>\n",
              "      <td>-0.125000</td>\n",
              "      <td>0.000000</td>\n",
              "      <td>0.000000</td>\n",
              "      <td>0.166667</td>\n",
              "      <td>0.000000</td>\n",
              "      <td>946.000000</td>\n",
              "    </tr>\n",
              "    <tr>\n",
              "      <th>50%</th>\n",
              "      <td>339.000000</td>\n",
              "      <td>10.000000</td>\n",
              "      <td>409.000000</td>\n",
              "      <td>0.539226</td>\n",
              "      <td>1.000000</td>\n",
              "      <td>0.690476</td>\n",
              "      <td>8.000000</td>\n",
              "      <td>3.000000</td>\n",
              "      <td>1.000000</td>\n",
              "      <td>0.000000</td>\n",
              "      <td>...</td>\n",
              "      <td>0.100000</td>\n",
              "      <td>0.800000</td>\n",
              "      <td>-0.253333</td>\n",
              "      <td>-0.500000</td>\n",
              "      <td>-0.100000</td>\n",
              "      <td>0.150000</td>\n",
              "      <td>0.000000</td>\n",
              "      <td>0.500000</td>\n",
              "      <td>0.000000</td>\n",
              "      <td>1400.000000</td>\n",
              "    </tr>\n",
              "    <tr>\n",
              "      <th>75%</th>\n",
              "      <td>542.000000</td>\n",
              "      <td>12.000000</td>\n",
              "      <td>716.000000</td>\n",
              "      <td>0.608696</td>\n",
              "      <td>1.000000</td>\n",
              "      <td>0.754630</td>\n",
              "      <td>14.000000</td>\n",
              "      <td>4.000000</td>\n",
              "      <td>4.000000</td>\n",
              "      <td>1.000000</td>\n",
              "      <td>...</td>\n",
              "      <td>0.100000</td>\n",
              "      <td>1.000000</td>\n",
              "      <td>-0.186905</td>\n",
              "      <td>-0.300000</td>\n",
              "      <td>-0.050000</td>\n",
              "      <td>0.500000</td>\n",
              "      <td>0.150000</td>\n",
              "      <td>0.500000</td>\n",
              "      <td>0.250000</td>\n",
              "      <td>2800.000000</td>\n",
              "    </tr>\n",
              "    <tr>\n",
              "      <th>max</th>\n",
              "      <td>731.000000</td>\n",
              "      <td>23.000000</td>\n",
              "      <td>8474.000000</td>\n",
              "      <td>701.000000</td>\n",
              "      <td>1042.000000</td>\n",
              "      <td>650.000000</td>\n",
              "      <td>304.000000</td>\n",
              "      <td>116.000000</td>\n",
              "      <td>128.000000</td>\n",
              "      <td>91.000000</td>\n",
              "      <td>...</td>\n",
              "      <td>1.000000</td>\n",
              "      <td>1.000000</td>\n",
              "      <td>0.000000</td>\n",
              "      <td>0.000000</td>\n",
              "      <td>0.000000</td>\n",
              "      <td>1.000000</td>\n",
              "      <td>1.000000</td>\n",
              "      <td>0.500000</td>\n",
              "      <td>1.000000</td>\n",
              "      <td>843300.000000</td>\n",
              "    </tr>\n",
              "  </tbody>\n",
              "</table>\n",
              "<p>8 rows × 60 columns</p>\n",
              "</div>\n",
              "    <div class=\"colab-df-buttons\">\n",
              "\n",
              "  <div class=\"colab-df-container\">\n",
              "    <button class=\"colab-df-convert\" onclick=\"convertToInteractive('df-e3920e01-98ff-4ace-85c8-c55935c6894e')\"\n",
              "            title=\"Convert this dataframe to an interactive table.\"\n",
              "            style=\"display:none;\">\n",
              "\n",
              "  <svg xmlns=\"http://www.w3.org/2000/svg\" height=\"24px\" viewBox=\"0 -960 960 960\">\n",
              "    <path d=\"M120-120v-720h720v720H120Zm60-500h600v-160H180v160Zm220 220h160v-160H400v160Zm0 220h160v-160H400v160ZM180-400h160v-160H180v160Zm440 0h160v-160H620v160ZM180-180h160v-160H180v160Zm440 0h160v-160H620v160Z\"/>\n",
              "  </svg>\n",
              "    </button>\n",
              "\n",
              "  <style>\n",
              "    .colab-df-container {\n",
              "      display:flex;\n",
              "      gap: 12px;\n",
              "    }\n",
              "\n",
              "    .colab-df-convert {\n",
              "      background-color: #E8F0FE;\n",
              "      border: none;\n",
              "      border-radius: 50%;\n",
              "      cursor: pointer;\n",
              "      display: none;\n",
              "      fill: #1967D2;\n",
              "      height: 32px;\n",
              "      padding: 0 0 0 0;\n",
              "      width: 32px;\n",
              "    }\n",
              "\n",
              "    .colab-df-convert:hover {\n",
              "      background-color: #E2EBFA;\n",
              "      box-shadow: 0px 1px 2px rgba(60, 64, 67, 0.3), 0px 1px 3px 1px rgba(60, 64, 67, 0.15);\n",
              "      fill: #174EA6;\n",
              "    }\n",
              "\n",
              "    .colab-df-buttons div {\n",
              "      margin-bottom: 4px;\n",
              "    }\n",
              "\n",
              "    [theme=dark] .colab-df-convert {\n",
              "      background-color: #3B4455;\n",
              "      fill: #D2E3FC;\n",
              "    }\n",
              "\n",
              "    [theme=dark] .colab-df-convert:hover {\n",
              "      background-color: #434B5C;\n",
              "      box-shadow: 0px 1px 3px 1px rgba(0, 0, 0, 0.15);\n",
              "      filter: drop-shadow(0px 1px 2px rgba(0, 0, 0, 0.3));\n",
              "      fill: #FFFFFF;\n",
              "    }\n",
              "  </style>\n",
              "\n",
              "    <script>\n",
              "      const buttonEl =\n",
              "        document.querySelector('#df-e3920e01-98ff-4ace-85c8-c55935c6894e button.colab-df-convert');\n",
              "      buttonEl.style.display =\n",
              "        google.colab.kernel.accessAllowed ? 'block' : 'none';\n",
              "\n",
              "      async function convertToInteractive(key) {\n",
              "        const element = document.querySelector('#df-e3920e01-98ff-4ace-85c8-c55935c6894e');\n",
              "        const dataTable =\n",
              "          await google.colab.kernel.invokeFunction('convertToInteractive',\n",
              "                                                    [key], {});\n",
              "        if (!dataTable) return;\n",
              "\n",
              "        const docLinkHtml = 'Like what you see? Visit the ' +\n",
              "          '<a target=\"_blank\" href=https://colab.research.google.com/notebooks/data_table.ipynb>data table notebook</a>'\n",
              "          + ' to learn more about interactive tables.';\n",
              "        element.innerHTML = '';\n",
              "        dataTable['output_type'] = 'display_data';\n",
              "        await google.colab.output.renderOutput(dataTable, element);\n",
              "        const docLink = document.createElement('div');\n",
              "        docLink.innerHTML = docLinkHtml;\n",
              "        element.appendChild(docLink);\n",
              "      }\n",
              "    </script>\n",
              "  </div>\n",
              "\n",
              "\n",
              "<div id=\"df-460402bc-2490-4ec2-b7e6-dda475e0f092\">\n",
              "  <button class=\"colab-df-quickchart\" onclick=\"quickchart('df-460402bc-2490-4ec2-b7e6-dda475e0f092')\"\n",
              "            title=\"Suggest charts.\"\n",
              "            style=\"display:none;\">\n",
              "\n",
              "<svg xmlns=\"http://www.w3.org/2000/svg\" height=\"24px\"viewBox=\"0 0 24 24\"\n",
              "     width=\"24px\">\n",
              "    <g>\n",
              "        <path d=\"M19 3H5c-1.1 0-2 .9-2 2v14c0 1.1.9 2 2 2h14c1.1 0 2-.9 2-2V5c0-1.1-.9-2-2-2zM9 17H7v-7h2v7zm4 0h-2V7h2v10zm4 0h-2v-4h2v4z\"/>\n",
              "    </g>\n",
              "</svg>\n",
              "  </button>\n",
              "\n",
              "<style>\n",
              "  .colab-df-quickchart {\n",
              "      --bg-color: #E8F0FE;\n",
              "      --fill-color: #1967D2;\n",
              "      --hover-bg-color: #E2EBFA;\n",
              "      --hover-fill-color: #174EA6;\n",
              "      --disabled-fill-color: #AAA;\n",
              "      --disabled-bg-color: #DDD;\n",
              "  }\n",
              "\n",
              "  [theme=dark] .colab-df-quickchart {\n",
              "      --bg-color: #3B4455;\n",
              "      --fill-color: #D2E3FC;\n",
              "      --hover-bg-color: #434B5C;\n",
              "      --hover-fill-color: #FFFFFF;\n",
              "      --disabled-bg-color: #3B4455;\n",
              "      --disabled-fill-color: #666;\n",
              "  }\n",
              "\n",
              "  .colab-df-quickchart {\n",
              "    background-color: var(--bg-color);\n",
              "    border: none;\n",
              "    border-radius: 50%;\n",
              "    cursor: pointer;\n",
              "    display: none;\n",
              "    fill: var(--fill-color);\n",
              "    height: 32px;\n",
              "    padding: 0;\n",
              "    width: 32px;\n",
              "  }\n",
              "\n",
              "  .colab-df-quickchart:hover {\n",
              "    background-color: var(--hover-bg-color);\n",
              "    box-shadow: 0 1px 2px rgba(60, 64, 67, 0.3), 0 1px 3px 1px rgba(60, 64, 67, 0.15);\n",
              "    fill: var(--button-hover-fill-color);\n",
              "  }\n",
              "\n",
              "  .colab-df-quickchart-complete:disabled,\n",
              "  .colab-df-quickchart-complete:disabled:hover {\n",
              "    background-color: var(--disabled-bg-color);\n",
              "    fill: var(--disabled-fill-color);\n",
              "    box-shadow: none;\n",
              "  }\n",
              "\n",
              "  .colab-df-spinner {\n",
              "    border: 2px solid var(--fill-color);\n",
              "    border-color: transparent;\n",
              "    border-bottom-color: var(--fill-color);\n",
              "    animation:\n",
              "      spin 1s steps(1) infinite;\n",
              "  }\n",
              "\n",
              "  @keyframes spin {\n",
              "    0% {\n",
              "      border-color: transparent;\n",
              "      border-bottom-color: var(--fill-color);\n",
              "      border-left-color: var(--fill-color);\n",
              "    }\n",
              "    20% {\n",
              "      border-color: transparent;\n",
              "      border-left-color: var(--fill-color);\n",
              "      border-top-color: var(--fill-color);\n",
              "    }\n",
              "    30% {\n",
              "      border-color: transparent;\n",
              "      border-left-color: var(--fill-color);\n",
              "      border-top-color: var(--fill-color);\n",
              "      border-right-color: var(--fill-color);\n",
              "    }\n",
              "    40% {\n",
              "      border-color: transparent;\n",
              "      border-right-color: var(--fill-color);\n",
              "      border-top-color: var(--fill-color);\n",
              "    }\n",
              "    60% {\n",
              "      border-color: transparent;\n",
              "      border-right-color: var(--fill-color);\n",
              "    }\n",
              "    80% {\n",
              "      border-color: transparent;\n",
              "      border-right-color: var(--fill-color);\n",
              "      border-bottom-color: var(--fill-color);\n",
              "    }\n",
              "    90% {\n",
              "      border-color: transparent;\n",
              "      border-bottom-color: var(--fill-color);\n",
              "    }\n",
              "  }\n",
              "</style>\n",
              "\n",
              "  <script>\n",
              "    async function quickchart(key) {\n",
              "      const quickchartButtonEl =\n",
              "        document.querySelector('#' + key + ' button');\n",
              "      quickchartButtonEl.disabled = true;  // To prevent multiple clicks.\n",
              "      quickchartButtonEl.classList.add('colab-df-spinner');\n",
              "      try {\n",
              "        const charts = await google.colab.kernel.invokeFunction(\n",
              "            'suggestCharts', [key], {});\n",
              "      } catch (error) {\n",
              "        console.error('Error during call to suggestCharts:', error);\n",
              "      }\n",
              "      quickchartButtonEl.classList.remove('colab-df-spinner');\n",
              "      quickchartButtonEl.classList.add('colab-df-quickchart-complete');\n",
              "    }\n",
              "    (() => {\n",
              "      let quickchartButtonEl =\n",
              "        document.querySelector('#df-460402bc-2490-4ec2-b7e6-dda475e0f092 button');\n",
              "      quickchartButtonEl.style.display =\n",
              "        google.colab.kernel.accessAllowed ? 'block' : 'none';\n",
              "    })();\n",
              "  </script>\n",
              "</div>\n",
              "    </div>\n",
              "  </div>\n"
            ]
          },
          "metadata": {},
          "execution_count": 12
        }
      ],
      "source": [
        "df2.describe()"
      ]
    },
    {
      "cell_type": "code",
      "execution_count": null,
      "id": "4d6ced8f",
      "metadata": {
        "colab": {
          "base_uri": "https://localhost:8080/"
        },
        "id": "4d6ced8f",
        "outputId": "308ee477-eda8-44f6-8ed6-afb140cbca73"
      },
      "outputs": [
        {
          "output_type": "stream",
          "name": "stdout",
          "text": [
            "<class 'pandas.core.frame.DataFrame'>\n",
            "RangeIndex: 39644 entries, 0 to 39643\n",
            "Data columns (total 61 columns):\n",
            " #   Column                          Non-Null Count  Dtype  \n",
            "---  ------                          --------------  -----  \n",
            " 0   url                             39644 non-null  object \n",
            " 1    timedelta                      39644 non-null  float64\n",
            " 2    n_tokens_title                 39644 non-null  float64\n",
            " 3    n_tokens_content               39644 non-null  float64\n",
            " 4    n_unique_tokens                39644 non-null  float64\n",
            " 5    n_non_stop_words               39644 non-null  float64\n",
            " 6    n_non_stop_unique_tokens       39644 non-null  float64\n",
            " 7    num_hrefs                      39644 non-null  float64\n",
            " 8    num_self_hrefs                 39644 non-null  float64\n",
            " 9    num_imgs                       39644 non-null  float64\n",
            " 10   num_videos                     39644 non-null  float64\n",
            " 11   average_token_length           39644 non-null  float64\n",
            " 12   num_keywords                   39644 non-null  float64\n",
            " 13   data_channel_is_lifestyle      39644 non-null  float64\n",
            " 14   data_channel_is_entertainment  39644 non-null  float64\n",
            " 15   data_channel_is_bus            39644 non-null  float64\n",
            " 16   data_channel_is_socmed         39644 non-null  float64\n",
            " 17   data_channel_is_tech           39644 non-null  float64\n",
            " 18   data_channel_is_world          39644 non-null  float64\n",
            " 19   kw_min_min                     39644 non-null  float64\n",
            " 20   kw_max_min                     39644 non-null  float64\n",
            " 21   kw_avg_min                     39644 non-null  float64\n",
            " 22   kw_min_max                     39644 non-null  float64\n",
            " 23   kw_max_max                     39644 non-null  float64\n",
            " 24   kw_avg_max                     39644 non-null  float64\n",
            " 25   kw_min_avg                     39644 non-null  float64\n",
            " 26   kw_max_avg                     39644 non-null  float64\n",
            " 27   kw_avg_avg                     39644 non-null  float64\n",
            " 28   self_reference_min_shares      39644 non-null  float64\n",
            " 29   self_reference_max_shares      39644 non-null  float64\n",
            " 30   self_reference_avg_sharess     39644 non-null  float64\n",
            " 31   weekday_is_monday              39644 non-null  float64\n",
            " 32   weekday_is_tuesday             39644 non-null  float64\n",
            " 33   weekday_is_wednesday           39644 non-null  float64\n",
            " 34   weekday_is_thursday            39644 non-null  float64\n",
            " 35   weekday_is_friday              39644 non-null  float64\n",
            " 36   weekday_is_saturday            39644 non-null  float64\n",
            " 37   weekday_is_sunday              39644 non-null  float64\n",
            " 38   is_weekend                     39644 non-null  float64\n",
            " 39   LDA_00                         39644 non-null  float64\n",
            " 40   LDA_01                         39644 non-null  float64\n",
            " 41   LDA_02                         39644 non-null  float64\n",
            " 42   LDA_03                         39644 non-null  float64\n",
            " 43   LDA_04                         39644 non-null  float64\n",
            " 44   global_subjectivity            39644 non-null  float64\n",
            " 45   global_sentiment_polarity      39644 non-null  float64\n",
            " 46   global_rate_positive_words     39644 non-null  float64\n",
            " 47   global_rate_negative_words     39644 non-null  float64\n",
            " 48   rate_positive_words            39644 non-null  float64\n",
            " 49   rate_negative_words            39644 non-null  float64\n",
            " 50   avg_positive_polarity          39644 non-null  float64\n",
            " 51   min_positive_polarity          39644 non-null  float64\n",
            " 52   max_positive_polarity          39644 non-null  float64\n",
            " 53   avg_negative_polarity          39644 non-null  float64\n",
            " 54   min_negative_polarity          39644 non-null  float64\n",
            " 55   max_negative_polarity          39644 non-null  float64\n",
            " 56   title_subjectivity             39644 non-null  float64\n",
            " 57   title_sentiment_polarity       39644 non-null  float64\n",
            " 58   abs_title_subjectivity         39644 non-null  float64\n",
            " 59   abs_title_sentiment_polarity   39644 non-null  float64\n",
            " 60   shares                         39644 non-null  int64  \n",
            "dtypes: float64(59), int64(1), object(1)\n",
            "memory usage: 18.5+ MB\n"
          ]
        }
      ],
      "source": [
        "df2.info()"
      ]
    },
    {
      "cell_type": "code",
      "execution_count": null,
      "id": "95fd3b63",
      "metadata": {
        "scrolled": false,
        "colab": {
          "base_uri": "https://localhost:8080/"
        },
        "id": "95fd3b63",
        "outputId": "e446ba23-3f8d-4513-d80f-2e33f63d98d2"
      },
      "outputs": [
        {
          "output_type": "execute_result",
          "data": {
            "text/plain": [
              "Index(['url', ' timedelta', ' n_tokens_title', ' n_tokens_content',\n",
              "       ' n_unique_tokens', ' n_non_stop_words', ' n_non_stop_unique_tokens',\n",
              "       ' num_hrefs', ' num_self_hrefs', ' num_imgs', ' num_videos',\n",
              "       ' average_token_length', ' num_keywords', ' data_channel_is_lifestyle',\n",
              "       ' data_channel_is_entertainment', ' data_channel_is_bus',\n",
              "       ' data_channel_is_socmed', ' data_channel_is_tech',\n",
              "       ' data_channel_is_world', ' kw_min_min', ' kw_max_min', ' kw_avg_min',\n",
              "       ' kw_min_max', ' kw_max_max', ' kw_avg_max', ' kw_min_avg',\n",
              "       ' kw_max_avg', ' kw_avg_avg', ' self_reference_min_shares',\n",
              "       ' self_reference_max_shares', ' self_reference_avg_sharess',\n",
              "       ' weekday_is_monday', ' weekday_is_tuesday', ' weekday_is_wednesday',\n",
              "       ' weekday_is_thursday', ' weekday_is_friday', ' weekday_is_saturday',\n",
              "       ' weekday_is_sunday', ' is_weekend', ' LDA_00', ' LDA_01', ' LDA_02',\n",
              "       ' LDA_03', ' LDA_04', ' global_subjectivity',\n",
              "       ' global_sentiment_polarity', ' global_rate_positive_words',\n",
              "       ' global_rate_negative_words', ' rate_positive_words',\n",
              "       ' rate_negative_words', ' avg_positive_polarity',\n",
              "       ' min_positive_polarity', ' max_positive_polarity',\n",
              "       ' avg_negative_polarity', ' min_negative_polarity',\n",
              "       ' max_negative_polarity', ' title_subjectivity',\n",
              "       ' title_sentiment_polarity', ' abs_title_subjectivity',\n",
              "       ' abs_title_sentiment_polarity', ' shares'],\n",
              "      dtype='object')"
            ]
          },
          "metadata": {},
          "execution_count": 14
        }
      ],
      "source": [
        "df2.columns"
      ]
    },
    {
      "cell_type": "code",
      "execution_count": null,
      "id": "e6afec7f",
      "metadata": {
        "colab": {
          "base_uri": "https://localhost:8080/",
          "height": 182
        },
        "id": "e6afec7f",
        "outputId": "f566f23a-2c22-4731-c0a3-13db548337ca"
      },
      "outputs": [
        {
          "output_type": "error",
          "ename": "NameError",
          "evalue": "ignored",
          "traceback": [
            "\u001b[0;31m---------------------------------------------------------------------------\u001b[0m",
            "\u001b[0;31mNameError\u001b[0m                                 Traceback (most recent call last)",
            "\u001b[0;32m<ipython-input-15-0591eb7f72f5>\u001b[0m in \u001b[0;36m<cell line: 1>\u001b[0;34m()\u001b[0m\n\u001b[0;32m----> 1\u001b[0;31m \u001b[0mdf2\u001b[0m\u001b[0;34m[\u001b[0m\u001b[0;34m' num_keywords'\u001b[0m\u001b[0;34m]\u001b[0m\u001b[0;34m.\u001b[0m\u001b[0mvalue_counts\u001b[0m\u001b[0;34m(\u001b[0m\u001b[0;34m)\u001b[0m\u001b[0;34m\u001b[0m\u001b[0;34m\u001b[0m\u001b[0m\n\u001b[0m",
            "\u001b[0;31mNameError\u001b[0m: name 'df2' is not defined"
          ]
        }
      ],
      "source": [
        "df2[' num_keywords'].value_counts()"
      ]
    },
    {
      "cell_type": "code",
      "execution_count": null,
      "id": "cdbdc590",
      "metadata": {
        "colab": {
          "base_uri": "https://localhost:8080/",
          "height": 467
        },
        "id": "cdbdc590",
        "outputId": "e825481c-4d62-42b7-b2c2-5b9c45d144e1"
      },
      "outputs": [
        {
          "output_type": "execute_result",
          "data": {
            "text/plain": [
              "<Axes: xlabel=' num_keywords', ylabel='Count'>"
            ]
          },
          "metadata": {},
          "execution_count": 16
        },
        {
          "output_type": "display_data",
          "data": {
            "text/plain": [
              "<Figure size 640x480 with 1 Axes>"
            ],
            "image/png": "[encoded data removed]"
          },
          "metadata": {}
        }
      ],
      "source": [
        "sns.histplot(df2[' num_keywords'])"
      ]
    },
    {
      "cell_type": "code",
      "execution_count": null,
      "id": "84d1b21f",
      "metadata": {
        "colab": {
          "base_uri": "https://localhost:8080/",
          "height": 447
        },
        "id": "84d1b21f",
        "outputId": "72f0bf78-e016-4394-8ffc-e09390c54b1e"
      },
      "outputs": [
        {
          "output_type": "execute_result",
          "data": {
            "text/plain": [
              "<Axes: >"
            ]
          },
          "metadata": {},
          "execution_count": 17
        },
        {
          "output_type": "display_data",
          "data": {
            "text/plain": [
              "<Figure size 640x480 with 1 Axes>"
            ],
            "image/png": "[encoded data removed]"
          },
          "metadata": {}
        }
      ],
      "source": [
        "sns.boxplot(df2[' num_keywords'])"
      ]
    },
    {
      "cell_type": "code",
      "execution_count": null,
      "id": "09d930bf",
      "metadata": {
        "colab": {
          "base_uri": "https://localhost:8080/"
        },
        "id": "09d930bf",
        "outputId": "c4092154-1cc4-4627-c5b2-21b3b01b1b83"
      },
      "outputs": [
        {
          "output_type": "execute_result",
          "data": {
            "text/plain": [
              "count    39644.000000\n",
              "mean         7.223767\n",
              "std          1.909130\n",
              "min          1.000000\n",
              "25%          6.000000\n",
              "50%          7.000000\n",
              "75%          9.000000\n",
              "max         10.000000\n",
              "Name:  num_keywords, dtype: float64"
            ]
          },
          "metadata": {},
          "execution_count": 18
        }
      ],
      "source": [
        "df2[' num_keywords'].describe()"
      ]
    },
    {
      "cell_type": "code",
      "execution_count": null,
      "id": "3f3f3793",
      "metadata": {
        "colab": {
          "base_uri": "https://localhost:8080/"
        },
        "id": "3f3f3793",
        "outputId": "7e576c0b-ac5b-4a71-e218-633e2eea46f8"
      },
      "outputs": [
        {
          "output_type": "execute_result",
          "data": {
            "text/plain": [
              "count      10.000000\n",
              "mean     3964.400000\n",
              "std      2922.022823\n",
              "min        45.000000\n",
              "25%      1083.000000\n",
              "50%      4780.500000\n",
              "75%      6554.500000\n",
              "max      7322.000000\n",
              "Name:  num_keywords, dtype: float64"
            ]
          },
          "metadata": {},
          "execution_count": 19
        }
      ],
      "source": [
        "df2[' num_keywords'].value_counts().describe()"
      ]
    },
    {
      "cell_type": "code",
      "execution_count": null,
      "id": "5a89bfe9",
      "metadata": {
        "colab": {
          "base_uri": "https://localhost:8080/"
        },
        "id": "5a89bfe9",
        "outputId": "49c368f5-fd68-47b9-f599-424ea8e5b726"
      },
      "outputs": [
        {
          "output_type": "execute_result",
          "data": {
            "text/plain": [
              "7.0"
            ]
          },
          "metadata": {},
          "execution_count": 20
        }
      ],
      "source": [
        "df2[' num_keywords'].median()"
      ]
    },
    {
      "cell_type": "code",
      "execution_count": null,
      "id": "8b71b984",
      "metadata": {
        "colab": {
          "base_uri": "https://localhost:8080/"
        },
        "id": "8b71b984",
        "outputId": "1a92ddd1-dd10-4445-a522-1a1280104546"
      },
      "outputs": [
        {
          "output_type": "execute_result",
          "data": {
            "text/plain": [
              "4780.5"
            ]
          },
          "metadata": {},
          "execution_count": 21
        }
      ],
      "source": [
        "df2[' num_keywords'].value_counts().median()"
      ]
    },
    {
      "cell_type": "code",
      "execution_count": null,
      "id": "01f0a007",
      "metadata": {
        "colab": {
          "base_uri": "https://localhost:8080/"
        },
        "id": "01f0a007",
        "outputId": "4da367bd-3402-4e3d-fbbb-2d9fc0bc3884"
      },
      "outputs": [
        {
          "output_type": "execute_result",
          "data": {
            "text/plain": [
              "1400.0"
            ]
          },
          "metadata": {},
          "execution_count": 22
        }
      ],
      "source": [
        "df2[' shares'].median()"
      ]
    },
    {
      "cell_type": "code",
      "execution_count": null,
      "id": "d3b76cab",
      "metadata": {
        "colab": {
          "base_uri": "https://localhost:8080/"
        },
        "id": "d3b76cab",
        "outputId": "58927596-3fef-4a2c-ce2a-282ec7966d47"
      },
      "outputs": [
        {
          "output_type": "execute_result",
          "data": {
            "text/plain": [
              "count     39644.000000\n",
              "mean       3395.380184\n",
              "std       11626.950749\n",
              "min           1.000000\n",
              "25%         946.000000\n",
              "50%        1400.000000\n",
              "75%        2800.000000\n",
              "max      843300.000000\n",
              "Name:  shares, dtype: float64"
            ]
          },
          "metadata": {},
          "execution_count": 23
        }
      ],
      "source": [
        "df2[' shares'].describe()"
      ]
    },
    {
      "cell_type": "code",
      "execution_count": null,
      "id": "12f826d4",
      "metadata": {
        "colab": {
          "base_uri": "https://localhost:8080/"
        },
        "id": "12f826d4",
        "outputId": "b92cde2e-078b-46fa-e961-32b159c26916"
      },
      "outputs": [
        {
          "output_type": "execute_result",
          "data": {
            "text/plain": [
              "3100.0"
            ]
          },
          "metadata": {},
          "execution_count": 24
        }
      ],
      "source": [
        "df2[' shares'].quantile(.78)"
      ]
    },
    {
      "cell_type": "code",
      "execution_count": null,
      "id": "d67755a4",
      "metadata": {
        "colab": {
          "base_uri": "https://localhost:8080/"
        },
        "id": "d67755a4",
        "outputId": "7f3d9fd9-932f-448f-dbf9-2b7716337e7c"
      },
      "outputs": [
        {
          "output_type": "execute_result",
          "data": {
            "text/plain": [
              "count    19725.000000\n",
              "mean      1557.158276\n",
              "std        481.531398\n",
              "min        947.000000\n",
              "25%       1200.000000\n",
              "50%       1400.000000\n",
              "75%       1900.000000\n",
              "max       2700.000000\n",
              "Name:  shares, dtype: float64"
            ]
          },
          "metadata": {},
          "execution_count": 25
        }
      ],
      "source": [
        "df2[(df2[' shares']>df2[' shares'].quantile(.25))&(df2[' shares']<df2[' shares'].quantile(.75))][' shares'].describe()"
      ]
    },
    {
      "cell_type": "code",
      "execution_count": null,
      "id": "8b531a8b",
      "metadata": {
        "colab": {
          "base_uri": "https://localhost:8080/"
        },
        "id": "8b531a8b",
        "outputId": "d68c12c0-3e1a-417c-a442-11153704e6ad"
      },
      "outputs": [
        {
          "output_type": "execute_result",
          "data": {
            "text/plain": [
              "946.0"
            ]
          },
          "metadata": {},
          "execution_count": 26
        }
      ],
      "source": [
        "df2[' shares'].quantile(.25)"
      ]
    },
    {
      "cell_type": "code",
      "execution_count": null,
      "id": "86e264f1",
      "metadata": {
        "colab": {
          "base_uri": "https://localhost:8080/"
        },
        "id": "86e264f1",
        "outputId": "626430cb-388f-48d8-ef43-091a4bbcb09c"
      },
      "outputs": [
        {
          "output_type": "execute_result",
          "data": {
            "text/plain": [
              "count    37644.000000\n",
              "mean      2069.930294\n",
              "std       1861.990219\n",
              "min          1.000000\n",
              "25%        927.000000\n",
              "50%       1400.000000\n",
              "75%       2400.000000\n",
              "max      10700.000000\n",
              "Name:  shares, dtype: float64"
            ]
          },
          "metadata": {},
          "execution_count": 27
        }
      ],
      "source": [
        "df2[(df2[' shares']<10800)][' shares'].describe()"
      ]
    },
    {
      "cell_type": "code",
      "execution_count": null,
      "id": "7a580dea",
      "metadata": {
        "colab": {
          "base_uri": "https://localhost:8080/"
        },
        "id": "7a580dea",
        "outputId": "77958d98-75e2-4791-93b3-9b833262d54d"
      },
      "outputs": [
        {
          "output_type": "execute_result",
          "data": {
            "text/plain": [
              "count    35688.000000\n",
              "mean      2164.373319\n",
              "std       1882.020495\n",
              "min        584.000000\n",
              "25%        985.000000\n",
              "50%       1400.000000\n",
              "75%       2500.000000\n",
              "max      10800.000000\n",
              "Name:  shares, dtype: float64"
            ]
          },
          "metadata": {},
          "execution_count": 29
        }
      ],
      "source": [
        "df2[(df2[' shares']>=df2[' shares'].quantile(.05))&(df2[' shares']<=df2[' shares'].quantile(.95))][' shares'].describe()"
      ]
    },
    {
      "cell_type": "code",
      "source": [],
      "metadata": {
        "id": "suxIH4Ktica8"
      },
      "id": "suxIH4Ktica8",
      "execution_count": null,
      "outputs": []
    }
  ],
  "metadata": {
    "kernelspec": {
      "display_name": "Python 3 (ipykernel)",
      "language": "python",
      "name": "python3"
    },
    "language_info": {
      "codemirror_mode": {
        "name": "ipython",
        "version": 3
      },
      "file_extension": ".py",
      "mimetype": "text/x-python",
      "name": "python",
      "nbconvert_exporter": "python",
      "pygments_lexer": "ipython3",
      "version": "3.9.12"
    },
    "colab": {
      "provenance": [],
      "include_colab_link": true
    }
  },
  "nbformat": 4,
  "nbformat_minor": 5
}